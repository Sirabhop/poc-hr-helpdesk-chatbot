{
 "cells": [
  {
   "cell_type": "code",
   "execution_count": 17,
   "metadata": {},
   "outputs": [],
   "source": [
    "import pandas as pd\n",
    "import faiss\n",
    "import numpy as np\n",
    "import time\n",
    "import re\n",
    "\n",
    "from tqdm import tqdm\n",
    "from module.model.retriever import retriever\n",
    "from module.model.customFaiss import faiss_engine\n",
    "from  module.model.gemini import Gemini\n",
    "\n",
    "file_path = \"./data/faq.xlsx\"\n",
    "df = pd.read_excel(file_path, sheet_name=\"FAQ\")\n",
    "df.reset_index(inplace=True)\n",
    "gemini = Gemini()"
   ]
  },
  {
   "cell_type": "markdown",
   "metadata": {},
   "source": [
    "# Augmented FAQ\n",
    "\n",
    "According to IVF, PQ, and IVF PQ requirements"
   ]
  },
  {
   "cell_type": "code",
   "execution_count": 2,
   "metadata": {},
   "outputs": [],
   "source": [
    "roles = {\n",
    "  \"Finance_Analyst\": \"An analytical and detail-oriented individual who specializes in managing budgets, forecasting financial trends, and analyzing data to support the bank's profitability. Adept at handling complex financial models and delivering insights to drive strategic decisions.\",\n",
    "  \"Legal_Counsel\": \"A meticulous and ethical professional with in-depth knowledge of banking laws and regulations. Ensures the bank complies with legal standards while providing advice on contracts, disputes, and regulatory changes.\",\n",
    "  \"Branch_Manager\": \"A goal-oriented leader who oversees the day-to-day operations of a bank branch. Skilled in team management, customer relations, and achieving sales targets while ensuring excellent service delivery.\",\n",
    "  \"CEO\": \"A visionary and charismatic leader responsible for setting the bank's strategic direction, driving growth, and maintaining strong relationships with stakeholders. Combines strategic thinking with a deep understanding of market dynamics.\",\n",
    "  \"Loan_Officer\": \"A personable and empathetic individual who assesses loan applications and assists customers in securing financing. Combines financial knowledge with excellent customer service and decision-making skills.\",\n",
    "  \"Personal_Banker\": \"A client-focused professional who helps individuals manage their financial needs, including deposits, loans, and investments. Excels in building trust, offering tailored solutions, and delivering excellent customer experiences.\",\n",
    "  \"Credit_Analyst\": \"A highly analytical and detail-focused professional who evaluates the creditworthiness of individuals or businesses applying for loans. Demonstrates expertise in financial analysis and risk assessment.\",\n",
    "  \"Risk_Manager\": \"A strategic thinker who identifies, assesses, and mitigates risks that could impact the bank's financial performance or compliance. Combines analytical skills with strong decision-making abilities.\",\n",
    "  \"Compliance_Officer\": \"A principled and organized individual responsible for ensuring the bank adheres to regulatory requirements. Works closely with legal and operational teams to identify risks and implement corrective measures.\",\n",
    "  \"Treasury_Manager\": \"A dynamic and resourceful professional who oversees the bank's liquidity, funding, and financial risk management. Skilled in cash flow analysis, investment decisions, and maintaining relationships with financial institutions.\"\n",
    "}"
   ]
  },
  {
   "cell_type": "code",
   "execution_count": 3,
   "metadata": {},
   "outputs": [],
   "source": [
    "def augment_question(q, role):\n",
    "    inst = f\"You are an employee of Krungthai bank. Your role is {role}, {roles[role]}\"\n",
    "    res = gemini.generate(\n",
    "        prompt = f\"\"\"\n",
    "        Your task is to paraphrase the given question in Thai language below into the new Thai language question according to your role and style. \n",
    "        You will paraphrased a given question into 10 questions, make sure to vary.\n",
    "        But, remember to keep the main meaning and do not use your prior or any knowledge you have to exaggerate.\n",
    "\n",
    "        The question: {q}\n",
    "\n",
    "        Output format: [\"paraphrased1\", \"paraphrased2\", ..., \"paraphrased10\"]\n",
    "        \"\"\",\n",
    "        system_instruction=inst\n",
    "    )\n",
    "    \n",
    "    return res"
   ]
  },
  {
   "cell_type": "code",
   "execution_count": null,
   "metadata": {},
   "outputs": [],
   "source": [
    "list_of_questions = df.core_question.to_list()\n",
    "all_paraphrased = {}\n",
    "\n",
    "for role in roles.keys():\n",
    "        \n",
    "    all_paraphrased[role] = []\n",
    "    \n",
    "    # Use tqdm to track progress over questions\n",
    "    for question in tqdm(list_of_questions, desc=f\"Processing questions for role: {role}\", leave=False, total=len(list_of_questions)):\n",
    "        while True:\n",
    "            try:\n",
    "                # Call the augment_question function\n",
    "                list_of_paraphrased = augment_question(question, role)\n",
    "                \n",
    "                # Append the paraphrased questions to the list for the current role\n",
    "                all_paraphrased[role].append(list_of_paraphrased)\n",
    "                \n",
    "                # Break the while loop if successful\n",
    "                break\n",
    "            except Exception as e:\n",
    "                # Log the error for debugging (optional)\n",
    "                tqdm.write(f\"Error occurred for role '{role}' and question '{question}': {e}\")\n",
    "                \n",
    "                # Sleep for 10 seconds before retrying\n",
    "                time.sleep(10)"
   ]
  },
  {
   "cell_type": "code",
   "execution_count": null,
   "metadata": {},
   "outputs": [],
   "source": [
    "all_cleaned = {}\n",
    "for role in all_paraphrased.keys():\n",
    "    all_cleaned[role] = [re.findall(r'\"([^\"]*[\\u0E00-\\u0E7F]+[^\"]*)\"', q) for q in all_paraphrased[role]]"
   ]
  },
  {
   "cell_type": "code",
   "execution_count": null,
   "metadata": {},
   "outputs": [],
   "source": [
    "res = pd.DataFrame()\n",
    "\n",
    "col = list(all_cleaned.keys())\n",
    "\n",
    "for c in col:\n",
    "    a = pd.DataFrame(pd.DataFrame(all_cleaned)[c].explode()).reset_index()\n",
    "    new_a = pd.DataFrame()\n",
    "    new_a['augmented_question'] = a[c].values\n",
    "    new_a['augmented_by'] = c\n",
    "    new_a['index'] = a['index'].values\n",
    "    res = pd.concat([res, new_a], axis=0, ignore_index=True)\n",
    "\n",
    "df_final = res.merge(df, on='index')"
   ]
  },
  {
   "cell_type": "code",
   "execution_count": null,
   "metadata": {},
   "outputs": [],
   "source": [
    "df_final.to_csv('./data/augmented_faq.csv', index=False)"
   ]
  },
  {
   "cell_type": "code",
   "execution_count": 2,
   "metadata": {},
   "outputs": [],
   "source": []
  },
  {
   "cell_type": "markdown",
   "metadata": {},
   "source": [
    "# Embed"
   ]
  },
  {
   "cell_type": "code",
   "execution_count": 18,
   "metadata": {},
   "outputs": [],
   "source": [
    "import os\n",
    "import json\n",
    "from tqdm import tqdm\n",
    "import time"
   ]
  },
  {
   "cell_type": "code",
   "execution_count": 19,
   "metadata": {},
   "outputs": [],
   "source": [
    "df_final = pd.read_csv('./data/augmented_faq.csv')"
   ]
  },
  {
   "cell_type": "code",
   "execution_count": null,
   "metadata": {},
   "outputs": [],
   "source": [
    "#4815"
   ]
  },
  {
   "cell_type": "code",
   "execution_count": null,
   "metadata": {},
   "outputs": [
    {
     "name": "stderr",
     "output_type": "stream",
     "text": [
      "Embedding Questions:  52%|█████▏    | 2832/5396 [29:14<21:43,  1.97it/s]   "
     ]
    }
   ],
   "source": [
    "all_embeded = []\n",
    "\n",
    "# Wrapping the iteration with tqdm for a progress bar\n",
    "for i, q in enumerate(tqdm(df_final.augmented_question.values[4815:], desc=\"Embedding Questions\")):\n",
    "    while True:  # Keep trying until successful\n",
    "        try:\n",
    "            # Attempting to embed the question\n",
    "            embedding = gemini.embed(q)\n",
    "            all_embeded.append({q: embedding})\n",
    "\n",
    "            # Save embedding to a local JSON file\n",
    "            filename = os.path.join(\"./data/embeddings\", f\"embedding_{i}.json\")\n",
    "            with open(filename, \"w\") as f:\n",
    "                json.dump({q: embedding}, f)\n",
    "            \n",
    "            break  # Exit the while loop on success\n",
    "        except Exception as e:\n",
    "            # Handling any exception and retrying\n",
    "            print(f\"Error embedding question at index {i}: {q}. Retrying... Error: {e}\")\n",
    "            time.sleep(1)  # Optional: Add a small delay to avoid overwhelming the system"
   ]
  },
  {
   "cell_type": "markdown",
   "metadata": {},
   "source": [
    "# FAISS"
   ]
  },
  {
   "cell_type": "code",
   "execution_count": 3,
   "metadata": {},
   "outputs": [
    {
     "name": "stdout",
     "output_type": "stream",
     "text": [
      "flat_ip has passed\n",
      "ivf has passed\n",
      "pq has passed\n",
      "ivf_pq has passed\n",
      "hnsw has passed\n"
     ]
    }
   ],
   "source": [
    "engines = {}\n",
    "for algo in [\"flat_ip\", \"ivf\", \"pq\", \"ivf_pq\", \"hnsw\"]:\n",
    "    try:\n",
    "        engines[algo] = retriever(df, faiss_engine(df_final[\"augmented_question\"].to_list(), index_type=algo, nlist=df.main_node.unique(), hnsw_m=8))\n",
    "    except:\n",
    "        print(algo, 'has passed')"
   ]
  },
  {
   "cell_type": "code",
   "execution_count": 7,
   "metadata": {},
   "outputs": [],
   "source": [
    "r = retriever(df)"
   ]
  },
  {
   "cell_type": "code",
   "execution_count": 12,
   "metadata": {},
   "outputs": [
    {
     "name": "stdout",
     "output_type": "stream",
     "text": [
      "FAISS engine built with flat_l2. Total vectors: 102\n"
     ]
    }
   ],
   "source": [
    "e = faiss_engine(df)"
   ]
  },
  {
   "cell_type": "code",
   "execution_count": 14,
   "metadata": {},
   "outputs": [],
   "source": [
    "r = retriever(df, e)"
   ]
  },
  {
   "cell_type": "code",
   "execution_count": 15,
   "metadata": {},
   "outputs": [
    {
     "data": {
      "text/plain": [
       "[ResponseCandidate(index=33, distance=0.9616277, core_question='หนังสือเวียนที่เกี่ยวข้อง เพื่อศึกษาเพิ่มเติม', core_answer='น.(ว)(บสส.) 317/2560 ลงวันที่ 28 กุมภาพันธ์ 2560 เรื่อง หลักเกณฑ์การประเมินผลการปฏิบัติงานพนักงานตามสัญญาและการบรรจุเป็นพนักงานประจำของธนาคาร', main_node='performanceAssessment', responsible_team='งานประเมินผลการปฏิบัติงาน, \\nฝ่ายบริหารผลการปฏิบัติงานฯ', question_tag='การประเมินผลปฏิบัติงานสำหรับพนักงานเข้าใหม่', question_type='what'),\n",
       " ResponseCandidate(index=6, distance=0.97831076, core_question='สอบถามผลสัมภาษณ์', core_answer='กรณีผ่านการสัมภาษณ์ HR จะดำเนินการติดต่อแจ้งผลสัมภาษณ์ไปยังผู้สมัคร หลังจากผ่านความเห็นชอบจากคณะกรรมการพนักงานของหน่วยงานปลายทางที่รับสมัคร ท่านสามารถสอบถามเจ้าหน้าที่ที่ดูแลการรับสมัครตำแหน่งนั้นๆ โดยดูข้อมูลการติดต่อสอบถามได้ที่ประกาศรับสมัคร (Link) หรือเจ้าหน้าที่ที่ติดต่อนัดสัมภาษณ์ได้โดยตรง', main_node='recruitmentRotationAndAppointment', responsible_team='ฝ่ายทรัพยากรบุคคลสัมพันธ์ 1, \\nฝ่ายทรัพยากรบุคคลสัมพันธ์ 8', question_tag='interal_recruitment, status_of_rotation, status_of_appointment, criteria_and_process_of_rotation_between_bu', question_type='what'),\n",
       " ResponseCandidate(index=61, distance=1.0078889, core_question='ยา...ใช้อย่างไร', core_answer='(คำตอบขึ้นกับชนิดยาที่ถาม) ', main_node='HealthcareAndMedicareTreatment', responsible_team='ฝ่ายสถานพยาบาลธนาคาร', question_tag='ด้านยา', question_type=nan)]"
      ]
     },
     "execution_count": 15,
     "metadata": {},
     "output_type": "execute_result"
    }
   ],
   "source": [
    "r.retrieve(\"Hi\")"
   ]
  },
  {
   "cell_type": "code",
   "execution_count": 7,
   "metadata": {},
   "outputs": [
    {
     "data": {
      "text/plain": [
       "[ResponseCandidate(index=94, distance=0.7417239, core_question='การปรับโครงสร้างองค์กร และหน้าที่ความรับผิดชอบ มีขั้นตอนการดำเนินการอย่างไร', core_answer='ขั้นตอนการปรับโครงสร้างองค์กร และหน้าที่ความรับผิดชอบ:   1. หน่วยงานจัดทำบันทึกและหน้าที่ความรับผิดชอบใหม่ นำเสนอคณะกรรมการ PMC สายงาน หรือผู้บริหารสายงาน พิจารณาให้ความเห็นชอบ  2. นำส่งบันทึกอนุมัติที่ได้ความเห็นชอบแล้วให้กับฝ่ายทรัพยากรบุคคลสัมพันธ์ 1 - 2 เพื่อประสานงานกับฝ่ายกลยุทธ์ทรัพยากรบุคคลและองค์กร  3. ฝ่ายกลยุทธ์ทรัพยากรบุคคลและองค์กรนำเสนอขออนุมัติการปรับโครงสร้างองค์กรและหน้าที่ความรับผิดชอบตามขอบอำนาจ  4. เมื่อได้รับอนุมัติแล้ว ฝ่ายกลยุทธ์ทรัพยากรบุคคลและองค์กรจะดำเนินการประกาศหนังสือเวียนและคำสั่ง ธ. พร้อมวันที่มีผลบังคับใช้', main_node='OrganizationalInformation', responsible_team='ฝ่ายกลยุทธ์ทรัพยากรบุคคลฯ', question_tag='ขั้นตอนการปรับโครงสร้างองค์กร และหน้าที่ความรับผิดชอบ', question_type=nan),\n",
       " ResponseCandidate(index=35, distance=0.7140384, core_question='แบบฟอร์มการประเมินผลหรือหัวข้อการประเมินผล สำหรับพนักงานที่ได้รับการแต่งตั้งให้ดำรงตำแหน่งงานด้านบริหาร', core_answer='Download เอกสารใบคำขอกู้ได้ที่ Intranet หน้าหลัก > HR > บริหารผลการปฏิบัติงานและผลตอบแทน > ประเมินผลการปฏิบัติงาน และ Coaching & Feedback > Download แบบฟอร์ม', main_node='performanceAssessment', responsible_team='ฝ่ายบริหารเส้นทางความก้าวหน้า , HRBP 1-2', question_tag='การประเมินผลสำหรับ พนักงานที่ได้รับการแต่งตั้งให้ดำรงตำแหน่งงานด้านบริหาร', question_type='what'),\n",
       " ResponseCandidate(index=36, distance=0.71284163, core_question='หลักเกณฑ์การประเมิน สำหรับพนักงานที่ได้รับการแต่งตั้งให้ดำรงตำแหน่งงานด้านบริหาร / หนังสือเวียนที่เกี่ยวข้อง เพื่อศึกษาเพิ่มเติม', core_answer='น.(ว)(บปผ.) 1370/2563 ลงวันที่ 14 กันยายน 2563 เรื่อง แนวทางการแต่งตั้งพนักงานเพื่อดำรงตำแหน่งด้านบริหาร', main_node='performanceAssessment', responsible_team='ฝ่ายบริหารเส้นทางความก้าวหน้า , HRBP 1-2', question_tag='การประเมินผลสำหรับ พนักงานที่ได้รับการแต่งตั้งให้ดำรงตำแหน่งงานด้านบริหาร', question_type='what')]"
      ]
     },
     "execution_count": 7,
     "metadata": {},
     "output_type": "execute_result"
    }
   ],
   "source": [
    "engines['flat_ip'].retrieve([\"ได้เป็นผู้บริหาร ต้องทำยังไงต่อ\", \"หิวข้าว\"])"
   ]
  },
  {
   "cell_type": "code",
   "execution_count": 15,
   "metadata": {},
   "outputs": [
    {
     "data": {
      "text/plain": [
       "array([[ 0.00088642,  0.02363747,  0.01960394, ...,  0.01923783,\n",
       "        -0.03167676,  0.02480354],\n",
       "       [-0.00225786, -0.00657255,  0.01028185, ...,  0.07226807,\n",
       "         0.01138341,  0.06531374],\n",
       "       [-0.00097243,  0.02973945, -0.00080827, ...,  0.01231256,\n",
       "        -0.03977378,  0.04063863],\n",
       "       ...,\n",
       "       [ 0.00213659, -0.02558158, -0.02310469, ...,  0.02031196,\n",
       "        -0.03198677,  0.02444904],\n",
       "       [ 0.01828804,  0.02970627,  0.02822982, ...,  0.00591141,\n",
       "        -0.06911253,  0.06015651],\n",
       "       [ 0.02320662,  0.00172849,  0.00749617, ...,  0.03459567,\n",
       "        -0.04150916,  0.02938838]], dtype=float32)"
      ]
     },
     "execution_count": 15,
     "metadata": {},
     "output_type": "execute_result"
    }
   ],
   "source": []
  },
  {
   "cell_type": "code",
   "execution_count": 6,
   "metadata": {},
   "outputs": [],
   "source": [
    "embedding_matrix = np.array(gemini.embed_documents(df[\"core_question\"])).astype('float32')"
   ]
  },
  {
   "cell_type": "code",
   "execution_count": 24,
   "metadata": {},
   "outputs": [
    {
     "data": {
      "text/plain": [
       "5"
      ]
     },
     "execution_count": 24,
     "metadata": {},
     "output_type": "execute_result"
    }
   ],
   "source": [
    "df.main_node.nunique()"
   ]
  },
  {
   "cell_type": "code",
   "execution_count": 8,
   "metadata": {},
   "outputs": [],
   "source": [
    "quantizer = faiss.IndexFlatL2(embedding_matrix.shape[1])"
   ]
  },
  {
   "cell_type": "code",
   "execution_count": null,
   "metadata": {},
   "outputs": [],
   "source": [
    "faiss.IndexIVFFlat"
   ]
  },
  {
   "cell_type": "code",
   "execution_count": 11,
   "metadata": {},
   "outputs": [],
   "source": [
    "index = faiss.IndexIVFFlat(quantizer, embedding_matrix.shape[1], 5)"
   ]
  },
  {
   "cell_type": "code",
   "execution_count": 12,
   "metadata": {},
   "outputs": [
    {
     "name": "stderr",
     "output_type": "stream",
     "text": [
      "WARNING clustering 37 points to 5 centroids: please provide at least 195 training points\n"
     ]
    }
   ],
   "source": [
    "index.train(embedding_matrix)\n",
    "index.add(embedding_matrix)"
   ]
  },
  {
   "cell_type": "code",
   "execution_count": 21,
   "metadata": {},
   "outputs": [],
   "source": [
    "d, i = index.search(np.array([gemini.embed(\"เอกสาร\")]).astype('float32'), k = 5)"
   ]
  },
  {
   "cell_type": "code",
   "execution_count": 22,
   "metadata": {},
   "outputs": [
    {
     "data": {
      "text/plain": [
       "array([[33, 10,  7, 17,  0]])"
      ]
     },
     "execution_count": 22,
     "metadata": {},
     "output_type": "execute_result"
    }
   ],
   "source": [
    "i"
   ]
  },
  {
   "cell_type": "code",
   "execution_count": 31,
   "metadata": {},
   "outputs": [
    {
     "data": {
      "text/html": [
       "<div>\n",
       "<style scoped>\n",
       "    .dataframe tbody tr th:only-of-type {\n",
       "        vertical-align: middle;\n",
       "    }\n",
       "\n",
       "    .dataframe tbody tr th {\n",
       "        vertical-align: top;\n",
       "    }\n",
       "\n",
       "    .dataframe thead th {\n",
       "        text-align: right;\n",
       "    }\n",
       "</style>\n",
       "<table border=\"1\" class=\"dataframe\">\n",
       "  <thead>\n",
       "    <tr style=\"text-align: right;\">\n",
       "      <th></th>\n",
       "      <th>index</th>\n",
       "      <th>main_node</th>\n",
       "      <th>responsible_team</th>\n",
       "      <th>question_tag</th>\n",
       "      <th>question_type</th>\n",
       "      <th>core_question</th>\n",
       "      <th>core_answer</th>\n",
       "    </tr>\n",
       "  </thead>\n",
       "  <tbody>\n",
       "    <tr>\n",
       "      <th>0</th>\n",
       "      <td>0</td>\n",
       "      <td>recruitmentRotationAndAppointment</td>\n",
       "      <td>ฝ่ายทรัพยากรบุคคลสัมพันธ์ 1, \\nฝ่ายทรัพยากรบุค...</td>\n",
       "      <td>interal_recruitment, status_of_rotation, statu...</td>\n",
       "      <td>how</td>\n",
       "      <td>อยากโอนย้ายหน่วยงานต้องทำอย่างไรบ้าง</td>\n",
       "      <td>ธนาคารมีช่องทางการประกาศรับสมัครพนักงานภายในธน...</td>\n",
       "    </tr>\n",
       "    <tr>\n",
       "      <th>1</th>\n",
       "      <td>1</td>\n",
       "      <td>recruitmentRotationAndAppointment</td>\n",
       "      <td>ฝ่ายทรัพยากรบุคคลสัมพันธ์ 1, \\nฝ่ายทรัพยากรบุค...</td>\n",
       "      <td>interal_recruitment, status_of_rotation, statu...</td>\n",
       "      <td>what</td>\n",
       "      <td>มีหน่วยงานหรือตำแหน่งงานไหนที่เปิดรับสมัครบ้าง</td>\n",
       "      <td>ธนาคารมีช่องทางการประกาศรับสมัครพนักงานภายในธน...</td>\n",
       "    </tr>\n",
       "    <tr>\n",
       "      <th>2</th>\n",
       "      <td>2</td>\n",
       "      <td>recruitmentRotationAndAppointment</td>\n",
       "      <td>ฝ่ายทรัพยากรบุคคลสัมพันธ์ 1, \\nฝ่ายทรัพยากรบุค...</td>\n",
       "      <td>interal_recruitment, status_of_rotation, statu...</td>\n",
       "      <td>how</td>\n",
       "      <td>แจ้งความประสงค์โอนย้ายผ่านช่องทางของธนาคารแล้ว...</td>\n",
       "      <td>HR จะคัดกรองคุณสมบัติ และส่งให้หน่วยงานพิจารณา...</td>\n",
       "    </tr>\n",
       "    <tr>\n",
       "      <th>3</th>\n",
       "      <td>3</td>\n",
       "      <td>recruitmentRotationAndAppointment</td>\n",
       "      <td>ฝ่ายทรัพยากรบุคคลสัมพันธ์ 1, \\nฝ่ายทรัพยากรบุค...</td>\n",
       "      <td>interal_recruitment, status_of_rotation, statu...</td>\n",
       "      <td>why</td>\n",
       "      <td>คีย์สมัครเข้ามาทางช่องทางที่ประกาศรับสมัครแล้ว...</td>\n",
       "      <td>HR จะคัดกรองคุณสมบัติ และส่งให้หน่วยงานพิจารณา...</td>\n",
       "    </tr>\n",
       "    <tr>\n",
       "      <th>4</th>\n",
       "      <td>4</td>\n",
       "      <td>recruitmentRotationAndAppointment</td>\n",
       "      <td>ฝ่ายทรัพยากรบุคคลสัมพันธ์ 1, \\nฝ่ายทรัพยากรบุค...</td>\n",
       "      <td>interal_recruitment, status_of_rotation, statu...</td>\n",
       "      <td>what</td>\n",
       "      <td>สอบถามกระบวนการในการโอนย้ายหน่วยงานภายในธนาคาร</td>\n",
       "      <td>HR จะคัดกรองคุณสมบัติ และส่งให้หน่วยงานพิจารณา...</td>\n",
       "    </tr>\n",
       "    <tr>\n",
       "      <th>5</th>\n",
       "      <td>5</td>\n",
       "      <td>recruitmentRotationAndAppointment</td>\n",
       "      <td>ฝ่ายทรัพยากรบุคคลสัมพันธ์ 1, \\nฝ่ายทรัพยากรบุค...</td>\n",
       "      <td>interal_recruitment, status_of_rotation, statu...</td>\n",
       "      <td>why</td>\n",
       "      <td>เข้าสู่กระบวนการสัมภาษณ์แล้ว แต่ยังไม่ได้รับกา...</td>\n",
       "      <td>กรณีผ่านการสัมภาษณ์ HR จะดำเนินการติดต่อแจ้งผล...</td>\n",
       "    </tr>\n",
       "    <tr>\n",
       "      <th>6</th>\n",
       "      <td>6</td>\n",
       "      <td>recruitmentRotationAndAppointment</td>\n",
       "      <td>ฝ่ายทรัพยากรบุคคลสัมพันธ์ 1, \\nฝ่ายทรัพยากรบุค...</td>\n",
       "      <td>interal_recruitment, status_of_rotation, statu...</td>\n",
       "      <td>what</td>\n",
       "      <td>สอบถามผลสัมภาษณ์</td>\n",
       "      <td>กรณีผ่านการสัมภาษณ์ HR จะดำเนินการติดต่อแจ้งผล...</td>\n",
       "    </tr>\n",
       "    <tr>\n",
       "      <th>7</th>\n",
       "      <td>7</td>\n",
       "      <td>recruitmentRotationAndAppointment</td>\n",
       "      <td>ฝ่ายทรัพยากรบุคคลสัมพันธ์ 1, \\nฝ่ายทรัพยากรบุค...</td>\n",
       "      <td>interal_recruitment, status_of_rotation, statu...</td>\n",
       "      <td>what</td>\n",
       "      <td>สอบถามเกณฑ์การโอนย้ายของธนาคาร</td>\n",
       "      <td>หลักเกณฑ์การโอนย้ายของพนักงาน ขึ้นกับ 3 กรณี: ...</td>\n",
       "    </tr>\n",
       "    <tr>\n",
       "      <th>8</th>\n",
       "      <td>8</td>\n",
       "      <td>recruitmentRotationAndAppointment</td>\n",
       "      <td>ฝ่ายทรัพยากรบุคคลสัมพันธ์ 1, \\nฝ่ายทรัพยากรบุค...</td>\n",
       "      <td>interal_recruitment, status_of_rotation, statu...</td>\n",
       "      <td>what</td>\n",
       "      <td>ต้องมีอายุงานในสังกัดปัจจุบันเท่าไหร่จึงจะโอนย...</td>\n",
       "      <td>หลักเกณฑ์การโอนย้ายของพนักงาน ขึ้นกับ 3 กรณี: ...</td>\n",
       "    </tr>\n",
       "    <tr>\n",
       "      <th>9</th>\n",
       "      <td>9</td>\n",
       "      <td>recruitmentRotationAndAppointment</td>\n",
       "      <td>ฝ่ายทรัพยากรบุคคลสัมพันธ์ 1, \\nฝ่ายทรัพยากรบุค...</td>\n",
       "      <td>interal_recruitment, status_of_rotation, statu...</td>\n",
       "      <td>when</td>\n",
       "      <td>ผ่านสัมภาษณ์แล้วจะได้โอนย้ายเมื่อไหร่</td>\n",
       "      <td>โปรดตรวจสอบสถานะการโอนย้ายกับเจ้าหน้าที่ที่ดูแ...</td>\n",
       "    </tr>\n",
       "    <tr>\n",
       "      <th>10</th>\n",
       "      <td>10</td>\n",
       "      <td>recruitmentRotationAndAppointment</td>\n",
       "      <td>ฝ่ายทรัพยากรบุคคลสัมพันธ์ 1, \\nฝ่ายทรัพยากรบุค...</td>\n",
       "      <td>interal_recruitment, status_of_rotation, statu...</td>\n",
       "      <td>when</td>\n",
       "      <td>คำสั่ง ธนาคารโอนย้าย จะประกาศเมื่อไหร่</td>\n",
       "      <td>โปรดตรวจสอบสถานะการโอนย้ายกับเจ้าหน้าที่ที่ดูแ...</td>\n",
       "    </tr>\n",
       "    <tr>\n",
       "      <th>11</th>\n",
       "      <td>11</td>\n",
       "      <td>recruitmentRotationAndAppointment</td>\n",
       "      <td>ฝ่ายทรัพยากรบุคคลสัมพันธ์ 1, \\nฝ่ายทรัพยากรบุค...</td>\n",
       "      <td>interal_recruitment, status_of_rotation, statu...</td>\n",
       "      <td>who</td>\n",
       "      <td>ใครเป็นผู้พิจารณาความเหมาะสมในการโอนย้ายของพนั...</td>\n",
       "      <td>ธนาคารให้หน่วยงานต้นสังกัดของพนักงานพิจารณาควา...</td>\n",
       "    </tr>\n",
       "    <tr>\n",
       "      <th>12</th>\n",
       "      <td>12</td>\n",
       "      <td>recruitmentRotationAndAppointment</td>\n",
       "      <td>ฝ่ายทรัพยากรบุคคลสัมพันธ์ 1, \\nฝ่ายทรัพยากรบุค...</td>\n",
       "      <td>interal_recruitment, status_of_rotation, statu...</td>\n",
       "      <td>who</td>\n",
       "      <td>ใครเป็นผู้กำหนดวันมีผลให้โอนย้าย</td>\n",
       "      <td>ธนาคารให้หน่วยงานต้นสังกัดของพนักงานพิจารณาควา...</td>\n",
       "    </tr>\n",
       "    <tr>\n",
       "      <th>13</th>\n",
       "      <td>13</td>\n",
       "      <td>recruitmentRotationAndAppointment</td>\n",
       "      <td>ฝ่ายทรัพยากรบุคคลสัมพันธ์ 1, \\nฝ่ายทรัพยากรบุค...</td>\n",
       "      <td>interal_recruitment, status_of_rotation, statu...</td>\n",
       "      <td>booleanwhy</td>\n",
       "      <td>ต้นสังกัดมีสิทธิ์ไม่ปล่อยตัวพนักงานหรือไม่</td>\n",
       "      <td>ธนาคารให้หน่วยงานต้นสังกัดของพนักงานพิจารณาควา...</td>\n",
       "    </tr>\n",
       "    <tr>\n",
       "      <th>14</th>\n",
       "      <td>14</td>\n",
       "      <td>recruitmentRotationAndAppointment</td>\n",
       "      <td>ฝ่ายทรัพยากรบุคคลสัมพันธ์ 1, \\nฝ่ายทรัพยากรบุค...</td>\n",
       "      <td>interal_recruitment, status_of_rotation, statu...</td>\n",
       "      <td>how</td>\n",
       "      <td>หากหน่วยงานต้นสังกัดไม่เห็นชอบให้โอนย้ายต้องทำ...</td>\n",
       "      <td>ธนาคารให้หน่วยงานต้นสังกัดของพนักงานพิจารณาควา...</td>\n",
       "    </tr>\n",
       "    <tr>\n",
       "      <th>15</th>\n",
       "      <td>15</td>\n",
       "      <td>recruitmentRotationAndAppointment</td>\n",
       "      <td>ฝ่ายทรัพยากรบุคคลสัมพันธ์ 1, \\nฝ่ายทรัพยากรบุค...</td>\n",
       "      <td>interal_recruitment, status_of_rotation, statu...</td>\n",
       "      <td>why</td>\n",
       "      <td>ผ่านการสัมภาษณ์แล้วแต่เห็นยังมีลงประกาศรับสมัค...</td>\n",
       "      <td>ธนาคารจะประกาศรับสมัครภายในจนกว่าจะสรรหาพนักงา...</td>\n",
       "    </tr>\n",
       "    <tr>\n",
       "      <th>16</th>\n",
       "      <td>16</td>\n",
       "      <td>recruitmentRotationAndAppointment</td>\n",
       "      <td>ฝ่ายทรัพยากรบุคคลสัมพันธ์ 1, \\nฝ่ายทรัพยากรบุค...</td>\n",
       "      <td>interal_recruitment, status_of_rotation, statu...</td>\n",
       "      <td>booleanwhy</td>\n",
       "      <td>เข้ารับการสัมภาษณ์แล้วแต่เห็นมีประกาศรับสมัครอ...</td>\n",
       "      <td>ธนาคารจะประกาศรับสมัครภายในจนกว่าจะสรรหาพนักงา...</td>\n",
       "    </tr>\n",
       "    <tr>\n",
       "      <th>17</th>\n",
       "      <td>17</td>\n",
       "      <td>recruitmentRotationAndAppointment</td>\n",
       "      <td>ฝ่ายทรัพยากรบุคคลสัมพันธ์ 1, \\nฝ่ายทรัพยากรบุค...</td>\n",
       "      <td>interal_recruitment, status_of_rotation, statu...</td>\n",
       "      <td>how</td>\n",
       "      <td>หากพนักงานต้องการสละสิทธิ์หรือยกเลิกการโอนย้าย...</td>\n",
       "      <td>หากยังไม่มีการประกาศคำสั่งโอนย้าย พนักงานสามาร...</td>\n",
       "    </tr>\n",
       "    <tr>\n",
       "      <th>18</th>\n",
       "      <td>18</td>\n",
       "      <td>recruitmentRotationAndAppointment</td>\n",
       "      <td>ฝ่ายทรัพยากรบุคคลสัมพันธ์ 1, \\nฝ่ายทรัพยากรบุค...</td>\n",
       "      <td>interal_recruitment, status_of_rotation, statu...</td>\n",
       "      <td>how</td>\n",
       "      <td>หากหน่วยงานต้นสังกัดต้องการยืมตัวต้องทำอย่างไร</td>\n",
       "      <td>หน่วยงานต้นสังกัดสามารถยืมตัวได้โดยส่งคำร้องไป...</td>\n",
       "    </tr>\n",
       "    <tr>\n",
       "      <th>19</th>\n",
       "      <td>19</td>\n",
       "      <td>recruitmentRotationAndAppointment</td>\n",
       "      <td>ฝ่ายทรัพยากรบุคคลสัมพันธ์ 1, \\nฝ่ายทรัพยากรบุค...</td>\n",
       "      <td>interal_recruitment, status_of_rotation, statu...</td>\n",
       "      <td>what</td>\n",
       "      <td>หน่วยงานต้นสังกัดสามารถยืมตัวได้ภายในระยะเวลาเ...</td>\n",
       "      <td>หน่วยงานต้นสังกัดสามารถยืมตัวได้โดยส่งคำร้องไป...</td>\n",
       "    </tr>\n",
       "    <tr>\n",
       "      <th>20</th>\n",
       "      <td>20</td>\n",
       "      <td>recruitmentRotationAndAppointment</td>\n",
       "      <td>ฝ่ายทรัพยากรบุคคลสัมพันธ์ 1, \\nฝ่ายทรัพยากรบุค...</td>\n",
       "      <td>interal_recruitment, status_of_rotation, statu...</td>\n",
       "      <td>what</td>\n",
       "      <td>สอบถามเกณฑ์ในการแต่งตั้งดำรงตำแหน่งงาน</td>\n",
       "      <td>พนักงานสามารถศึกษาเกณฑ์ได้จากใบประกาศรับสมัครง...</td>\n",
       "    </tr>\n",
       "    <tr>\n",
       "      <th>21</th>\n",
       "      <td>21</td>\n",
       "      <td>scholarship</td>\n",
       "      <td>ฝ่ายบริหารเส้นทางความก้าวหน้าฯ</td>\n",
       "      <td>scholarship</td>\n",
       "      <td>booleanwhy</td>\n",
       "      <td>ธนาคารมีการเปิดให้ทุนการศึกษาแก่พนักงานหรือไม่</td>\n",
       "      <td>พนักงานสามารถติดตามข่าวสารด้านทุนการศึกษาได้ผ่...</td>\n",
       "    </tr>\n",
       "    <tr>\n",
       "      <th>22</th>\n",
       "      <td>22</td>\n",
       "      <td>performancePromotion</td>\n",
       "      <td>ฝ่ายบริหารเส้นทางความก้าวหน้าฯ</td>\n",
       "      <td>performancePromotion</td>\n",
       "      <td>what</td>\n",
       "      <td>หลักเกณฑ์การเลื่อนตำแหน่งตามความสามารถและผลการ...</td>\n",
       "      <td>คุณสมบัติเบื้องต้นในการพิจารณาเลื่อนตำแหน่งตาม...</td>\n",
       "    </tr>\n",
       "    <tr>\n",
       "      <th>23</th>\n",
       "      <td>23</td>\n",
       "      <td>trainingAndDevelopment</td>\n",
       "      <td>ทีม License</td>\n",
       "      <td>ใบอนุญาตนายหน้าประกันชีวิต, นายหน้าประกันวินาศภัย</td>\n",
       "      <td>how</td>\n",
       "      <td>จำไม่ได้ว่าอบรมต่ออายุใบอนุญาตฯ ไปแล้วหรือยัง ...</td>\n",
       "      <td>พนักงานสามารถตรวจสอบประวัติการอบรมของพนักงานได...</td>\n",
       "    </tr>\n",
       "    <tr>\n",
       "      <th>24</th>\n",
       "      <td>24</td>\n",
       "      <td>trainingAndDevelopment</td>\n",
       "      <td>ทีม License</td>\n",
       "      <td>ใบอนุญาตนายหน้าประกันชีวิต, นายหน้าประกันวินาศภัย</td>\n",
       "      <td>booleanwhy</td>\n",
       "      <td>ธนาคารจะมีเปิดรอบทดสอบใบอนุญาตนายหน้าประกันชีว...</td>\n",
       "      <td>ขึ้นอยู่กับจำนวนพนักงานที่ยังไม่มีใบอนุญาตนายห...</td>\n",
       "    </tr>\n",
       "    <tr>\n",
       "      <th>25</th>\n",
       "      <td>25</td>\n",
       "      <td>trainingAndDevelopment</td>\n",
       "      <td>ทีม License</td>\n",
       "      <td>ใบอนุญาตนายหน้าประกันชีวิต, นายหน้าประกันวินาศภัย</td>\n",
       "      <td>how</td>\n",
       "      <td>อบรมต่ออายุใบอนุญาตฯ เรียบร้อยแล้ว แต่ยังไม่ได...</td>\n",
       "      <td>ธนาคารยกเลิกการจัดส่งใบอนุญาตฯ ให้กับพนักงานแล...</td>\n",
       "    </tr>\n",
       "    <tr>\n",
       "      <th>26</th>\n",
       "      <td>26</td>\n",
       "      <td>performanceAssessment</td>\n",
       "      <td>งานประเมินผลการปฏิบัติงาน, \\nฝ่ายบริหารผลการปฏ...</td>\n",
       "      <td>การประเมินผลปฏิบัติงานประจำปี</td>\n",
       "      <td>what</td>\n",
       "      <td>กระบวนการประเมินผลการปฏิบัติงานประจำปี</td>\n",
       "      <td>กระบวนการประเมินผลการปฏิบัติงานประจำปี ได้แก่ ...</td>\n",
       "    </tr>\n",
       "    <tr>\n",
       "      <th>27</th>\n",
       "      <td>27</td>\n",
       "      <td>performanceAssessment</td>\n",
       "      <td>งานประเมินผลการปฏิบัติงาน, \\nฝ่ายบริหารผลการปฏ...</td>\n",
       "      <td>การประเมินผลปฏิบัติงานประจำปี</td>\n",
       "      <td>what</td>\n",
       "      <td>หลักเกณฑ์การประเมินผลการปฏิบัติงานประจำปี</td>\n",
       "      <td>สามารถศึกษาหลักเกณฑ์การประเมินผลการปฏิบัติงานป...</td>\n",
       "    </tr>\n",
       "    <tr>\n",
       "      <th>28</th>\n",
       "      <td>28</td>\n",
       "      <td>performanceAssessment</td>\n",
       "      <td>งานประเมินผลการปฏิบัติงาน, \\nฝ่ายบริหารผลการปฏ...</td>\n",
       "      <td>การประเมินผลปฏิบัติงานประจำปี</td>\n",
       "      <td>what</td>\n",
       "      <td>Distrubution Ranking หรือสัดส่วน Performance R...</td>\n",
       "      <td>ปัจจุบันมี 7 Rank เรียงจากคะแนนผลการปฏิบัติงาน...</td>\n",
       "    </tr>\n",
       "    <tr>\n",
       "      <th>29</th>\n",
       "      <td>29</td>\n",
       "      <td>performanceAssessment</td>\n",
       "      <td>งานประเมินผลการปฏิบัติงาน, \\nฝ่ายบริหารผลการปฏ...</td>\n",
       "      <td>การประเมินผลปฏิบัติงานสำหรับพนักงานเข้าใหม่</td>\n",
       "      <td>what</td>\n",
       "      <td>ระยะเวลาในการประเมินผลสำหรับพนักงานเข้าใหม่</td>\n",
       "      <td>ระยะเวลาการประเมินผล 6 เดือนนับจากวันที่เข้างาน</td>\n",
       "    </tr>\n",
       "    <tr>\n",
       "      <th>30</th>\n",
       "      <td>30</td>\n",
       "      <td>performanceAssessment</td>\n",
       "      <td>งานประเมินผลการปฏิบัติงาน, \\nฝ่ายบริหารผลการปฏ...</td>\n",
       "      <td>การประเมินผลปฏิบัติงานสำหรับพนักงานเข้าใหม่</td>\n",
       "      <td>what</td>\n",
       "      <td>แบบฟอร์มการประเมินผลหรือหัวข้อการประเมินผล สำห...</td>\n",
       "      <td>1. สำหรับพนักงานกลุ่มเจ้าหน้าที่ - หัวหน้าส่วน...</td>\n",
       "    </tr>\n",
       "    <tr>\n",
       "      <th>31</th>\n",
       "      <td>31</td>\n",
       "      <td>performanceAssessment</td>\n",
       "      <td>งานประเมินผลการปฏิบัติงาน, \\nฝ่ายบริหารผลการปฏ...</td>\n",
       "      <td>การประเมินผลปฏิบัติงานสำหรับพนักงานเข้าใหม่</td>\n",
       "      <td>what</td>\n",
       "      <td>หลักเกณฑ์การประเมิน สำหรับพนักงานกลุ่มเจ้าหน้า...</td>\n",
       "      <td>1) เกณฑ์การผ่านประเมิน คะแนนประเมินผลตั้งแต่ 8...</td>\n",
       "    </tr>\n",
       "    <tr>\n",
       "      <th>32</th>\n",
       "      <td>32</td>\n",
       "      <td>performanceAssessment</td>\n",
       "      <td>งานประเมินผลการปฏิบัติงาน, \\nฝ่ายบริหารผลการปฏ...</td>\n",
       "      <td>การประเมินผลปฏิบัติงานสำหรับพนักงานเข้าใหม่</td>\n",
       "      <td>what</td>\n",
       "      <td>หลักเกณฑ์การประเมิน สำหรับพนักงานกลุ่มรองผู้อำ...</td>\n",
       "      <td>1) เกณฑ์การผ่านประเมิน คะแนนประเมินผลตั้งแต่ 8...</td>\n",
       "    </tr>\n",
       "    <tr>\n",
       "      <th>33</th>\n",
       "      <td>33</td>\n",
       "      <td>performanceAssessment</td>\n",
       "      <td>งานประเมินผลการปฏิบัติงาน, \\nฝ่ายบริหารผลการปฏ...</td>\n",
       "      <td>การประเมินผลปฏิบัติงานสำหรับพนักงานเข้าใหม่</td>\n",
       "      <td>what</td>\n",
       "      <td>หนังสือเวียนที่เกี่ยวข้อง เพื่อศึกษาเพิ่มเติม</td>\n",
       "      <td>น.(ว)(บสส.) 317/2560 ลงวันที่ 28 กุมภาพันธ์ 25...</td>\n",
       "    </tr>\n",
       "    <tr>\n",
       "      <th>34</th>\n",
       "      <td>34</td>\n",
       "      <td>performanceAssessment</td>\n",
       "      <td>ฝ่ายบริหารเส้นทางความก้าวหน้า , HRBP 1-2</td>\n",
       "      <td>การประเมินผลสำหรับ พนักงานที่ได้รับการแต่งตั้ง...</td>\n",
       "      <td>what</td>\n",
       "      <td>ระยะเวลาในการประเมินผลสำหรับพนักงานที่ได้รับกา...</td>\n",
       "      <td>ระยะเวลาการประเมินผล 6 เดือนนับจากวันที่มีผลใน...</td>\n",
       "    </tr>\n",
       "    <tr>\n",
       "      <th>35</th>\n",
       "      <td>35</td>\n",
       "      <td>performanceAssessment</td>\n",
       "      <td>ฝ่ายบริหารเส้นทางความก้าวหน้า , HRBP 1-2</td>\n",
       "      <td>การประเมินผลสำหรับ พนักงานที่ได้รับการแต่งตั้ง...</td>\n",
       "      <td>what</td>\n",
       "      <td>แบบฟอร์มการประเมินผลหรือหัวข้อการประเมินผล สำห...</td>\n",
       "      <td>Download เอกสารใบคำขอกู้ได้ที่ Intranet หน้าหล...</td>\n",
       "    </tr>\n",
       "    <tr>\n",
       "      <th>36</th>\n",
       "      <td>36</td>\n",
       "      <td>performanceAssessment</td>\n",
       "      <td>ฝ่ายบริหารเส้นทางความก้าวหน้า , HRBP 1-2</td>\n",
       "      <td>การประเมินผลสำหรับ พนักงานที่ได้รับการแต่งตั้ง...</td>\n",
       "      <td>what</td>\n",
       "      <td>หลักเกณฑ์การประเมิน สำหรับพนักงานที่ได้รับการแ...</td>\n",
       "      <td>น.(ว)(บปผ.) 1370/2563 ลงวันที่ 14 กันยายน 2563...</td>\n",
       "    </tr>\n",
       "  </tbody>\n",
       "</table>\n",
       "</div>"
      ],
      "text/plain": [
       "    index                          main_node  \\\n",
       "0       0  recruitmentRotationAndAppointment   \n",
       "1       1  recruitmentRotationAndAppointment   \n",
       "2       2  recruitmentRotationAndAppointment   \n",
       "3       3  recruitmentRotationAndAppointment   \n",
       "4       4  recruitmentRotationAndAppointment   \n",
       "5       5  recruitmentRotationAndAppointment   \n",
       "6       6  recruitmentRotationAndAppointment   \n",
       "7       7  recruitmentRotationAndAppointment   \n",
       "8       8  recruitmentRotationAndAppointment   \n",
       "9       9  recruitmentRotationAndAppointment   \n",
       "10     10  recruitmentRotationAndAppointment   \n",
       "11     11  recruitmentRotationAndAppointment   \n",
       "12     12  recruitmentRotationAndAppointment   \n",
       "13     13  recruitmentRotationAndAppointment   \n",
       "14     14  recruitmentRotationAndAppointment   \n",
       "15     15  recruitmentRotationAndAppointment   \n",
       "16     16  recruitmentRotationAndAppointment   \n",
       "17     17  recruitmentRotationAndAppointment   \n",
       "18     18  recruitmentRotationAndAppointment   \n",
       "19     19  recruitmentRotationAndAppointment   \n",
       "20     20  recruitmentRotationAndAppointment   \n",
       "21     21                        scholarship   \n",
       "22     22               performancePromotion   \n",
       "23     23             trainingAndDevelopment   \n",
       "24     24             trainingAndDevelopment   \n",
       "25     25             trainingAndDevelopment   \n",
       "26     26              performanceAssessment   \n",
       "27     27              performanceAssessment   \n",
       "28     28              performanceAssessment   \n",
       "29     29              performanceAssessment   \n",
       "30     30              performanceAssessment   \n",
       "31     31              performanceAssessment   \n",
       "32     32              performanceAssessment   \n",
       "33     33              performanceAssessment   \n",
       "34     34              performanceAssessment   \n",
       "35     35              performanceAssessment   \n",
       "36     36              performanceAssessment   \n",
       "\n",
       "                                     responsible_team  \\\n",
       "0   ฝ่ายทรัพยากรบุคคลสัมพันธ์ 1, \\nฝ่ายทรัพยากรบุค...   \n",
       "1   ฝ่ายทรัพยากรบุคคลสัมพันธ์ 1, \\nฝ่ายทรัพยากรบุค...   \n",
       "2   ฝ่ายทรัพยากรบุคคลสัมพันธ์ 1, \\nฝ่ายทรัพยากรบุค...   \n",
       "3   ฝ่ายทรัพยากรบุคคลสัมพันธ์ 1, \\nฝ่ายทรัพยากรบุค...   \n",
       "4   ฝ่ายทรัพยากรบุคคลสัมพันธ์ 1, \\nฝ่ายทรัพยากรบุค...   \n",
       "5   ฝ่ายทรัพยากรบุคคลสัมพันธ์ 1, \\nฝ่ายทรัพยากรบุค...   \n",
       "6   ฝ่ายทรัพยากรบุคคลสัมพันธ์ 1, \\nฝ่ายทรัพยากรบุค...   \n",
       "7   ฝ่ายทรัพยากรบุคคลสัมพันธ์ 1, \\nฝ่ายทรัพยากรบุค...   \n",
       "8   ฝ่ายทรัพยากรบุคคลสัมพันธ์ 1, \\nฝ่ายทรัพยากรบุค...   \n",
       "9   ฝ่ายทรัพยากรบุคคลสัมพันธ์ 1, \\nฝ่ายทรัพยากรบุค...   \n",
       "10  ฝ่ายทรัพยากรบุคคลสัมพันธ์ 1, \\nฝ่ายทรัพยากรบุค...   \n",
       "11  ฝ่ายทรัพยากรบุคคลสัมพันธ์ 1, \\nฝ่ายทรัพยากรบุค...   \n",
       "12  ฝ่ายทรัพยากรบุคคลสัมพันธ์ 1, \\nฝ่ายทรัพยากรบุค...   \n",
       "13  ฝ่ายทรัพยากรบุคคลสัมพันธ์ 1, \\nฝ่ายทรัพยากรบุค...   \n",
       "14  ฝ่ายทรัพยากรบุคคลสัมพันธ์ 1, \\nฝ่ายทรัพยากรบุค...   \n",
       "15  ฝ่ายทรัพยากรบุคคลสัมพันธ์ 1, \\nฝ่ายทรัพยากรบุค...   \n",
       "16  ฝ่ายทรัพยากรบุคคลสัมพันธ์ 1, \\nฝ่ายทรัพยากรบุค...   \n",
       "17  ฝ่ายทรัพยากรบุคคลสัมพันธ์ 1, \\nฝ่ายทรัพยากรบุค...   \n",
       "18  ฝ่ายทรัพยากรบุคคลสัมพันธ์ 1, \\nฝ่ายทรัพยากรบุค...   \n",
       "19  ฝ่ายทรัพยากรบุคคลสัมพันธ์ 1, \\nฝ่ายทรัพยากรบุค...   \n",
       "20  ฝ่ายทรัพยากรบุคคลสัมพันธ์ 1, \\nฝ่ายทรัพยากรบุค...   \n",
       "21                     ฝ่ายบริหารเส้นทางความก้าวหน้าฯ   \n",
       "22                     ฝ่ายบริหารเส้นทางความก้าวหน้าฯ   \n",
       "23                                        ทีม License   \n",
       "24                                        ทีม License   \n",
       "25                                        ทีม License   \n",
       "26  งานประเมินผลการปฏิบัติงาน, \\nฝ่ายบริหารผลการปฏ...   \n",
       "27  งานประเมินผลการปฏิบัติงาน, \\nฝ่ายบริหารผลการปฏ...   \n",
       "28  งานประเมินผลการปฏิบัติงาน, \\nฝ่ายบริหารผลการปฏ...   \n",
       "29  งานประเมินผลการปฏิบัติงาน, \\nฝ่ายบริหารผลการปฏ...   \n",
       "30  งานประเมินผลการปฏิบัติงาน, \\nฝ่ายบริหารผลการปฏ...   \n",
       "31  งานประเมินผลการปฏิบัติงาน, \\nฝ่ายบริหารผลการปฏ...   \n",
       "32  งานประเมินผลการปฏิบัติงาน, \\nฝ่ายบริหารผลการปฏ...   \n",
       "33  งานประเมินผลการปฏิบัติงาน, \\nฝ่ายบริหารผลการปฏ...   \n",
       "34           ฝ่ายบริหารเส้นทางความก้าวหน้า , HRBP 1-2   \n",
       "35           ฝ่ายบริหารเส้นทางความก้าวหน้า , HRBP 1-2   \n",
       "36           ฝ่ายบริหารเส้นทางความก้าวหน้า , HRBP 1-2   \n",
       "\n",
       "                                         question_tag question_type  \\\n",
       "0   interal_recruitment, status_of_rotation, statu...           how   \n",
       "1   interal_recruitment, status_of_rotation, statu...          what   \n",
       "2   interal_recruitment, status_of_rotation, statu...           how   \n",
       "3   interal_recruitment, status_of_rotation, statu...           why   \n",
       "4   interal_recruitment, status_of_rotation, statu...          what   \n",
       "5   interal_recruitment, status_of_rotation, statu...           why   \n",
       "6   interal_recruitment, status_of_rotation, statu...          what   \n",
       "7   interal_recruitment, status_of_rotation, statu...          what   \n",
       "8   interal_recruitment, status_of_rotation, statu...          what   \n",
       "9   interal_recruitment, status_of_rotation, statu...          when   \n",
       "10  interal_recruitment, status_of_rotation, statu...          when   \n",
       "11  interal_recruitment, status_of_rotation, statu...           who   \n",
       "12  interal_recruitment, status_of_rotation, statu...           who   \n",
       "13  interal_recruitment, status_of_rotation, statu...    booleanwhy   \n",
       "14  interal_recruitment, status_of_rotation, statu...           how   \n",
       "15  interal_recruitment, status_of_rotation, statu...           why   \n",
       "16  interal_recruitment, status_of_rotation, statu...    booleanwhy   \n",
       "17  interal_recruitment, status_of_rotation, statu...           how   \n",
       "18  interal_recruitment, status_of_rotation, statu...           how   \n",
       "19  interal_recruitment, status_of_rotation, statu...          what   \n",
       "20  interal_recruitment, status_of_rotation, statu...          what   \n",
       "21                                        scholarship    booleanwhy   \n",
       "22                               performancePromotion          what   \n",
       "23  ใบอนุญาตนายหน้าประกันชีวิต, นายหน้าประกันวินาศภัย           how   \n",
       "24  ใบอนุญาตนายหน้าประกันชีวิต, นายหน้าประกันวินาศภัย    booleanwhy   \n",
       "25  ใบอนุญาตนายหน้าประกันชีวิต, นายหน้าประกันวินาศภัย           how   \n",
       "26                      การประเมินผลปฏิบัติงานประจำปี          what   \n",
       "27                      การประเมินผลปฏิบัติงานประจำปี          what   \n",
       "28                      การประเมินผลปฏิบัติงานประจำปี          what   \n",
       "29        การประเมินผลปฏิบัติงานสำหรับพนักงานเข้าใหม่          what   \n",
       "30        การประเมินผลปฏิบัติงานสำหรับพนักงานเข้าใหม่          what   \n",
       "31        การประเมินผลปฏิบัติงานสำหรับพนักงานเข้าใหม่          what   \n",
       "32        การประเมินผลปฏิบัติงานสำหรับพนักงานเข้าใหม่          what   \n",
       "33        การประเมินผลปฏิบัติงานสำหรับพนักงานเข้าใหม่          what   \n",
       "34  การประเมินผลสำหรับ พนักงานที่ได้รับการแต่งตั้ง...          what   \n",
       "35  การประเมินผลสำหรับ พนักงานที่ได้รับการแต่งตั้ง...          what   \n",
       "36  การประเมินผลสำหรับ พนักงานที่ได้รับการแต่งตั้ง...          what   \n",
       "\n",
       "                                        core_question  \\\n",
       "0                อยากโอนย้ายหน่วยงานต้องทำอย่างไรบ้าง   \n",
       "1      มีหน่วยงานหรือตำแหน่งงานไหนที่เปิดรับสมัครบ้าง   \n",
       "2   แจ้งความประสงค์โอนย้ายผ่านช่องทางของธนาคารแล้ว...   \n",
       "3   คีย์สมัครเข้ามาทางช่องทางที่ประกาศรับสมัครแล้ว...   \n",
       "4      สอบถามกระบวนการในการโอนย้ายหน่วยงานภายในธนาคาร   \n",
       "5   เข้าสู่กระบวนการสัมภาษณ์แล้ว แต่ยังไม่ได้รับกา...   \n",
       "6                                    สอบถามผลสัมภาษณ์   \n",
       "7                      สอบถามเกณฑ์การโอนย้ายของธนาคาร   \n",
       "8   ต้องมีอายุงานในสังกัดปัจจุบันเท่าไหร่จึงจะโอนย...   \n",
       "9               ผ่านสัมภาษณ์แล้วจะได้โอนย้ายเมื่อไหร่   \n",
       "10             คำสั่ง ธนาคารโอนย้าย จะประกาศเมื่อไหร่   \n",
       "11  ใครเป็นผู้พิจารณาความเหมาะสมในการโอนย้ายของพนั...   \n",
       "12                   ใครเป็นผู้กำหนดวันมีผลให้โอนย้าย   \n",
       "13         ต้นสังกัดมีสิทธิ์ไม่ปล่อยตัวพนักงานหรือไม่   \n",
       "14  หากหน่วยงานต้นสังกัดไม่เห็นชอบให้โอนย้ายต้องทำ...   \n",
       "15  ผ่านการสัมภาษณ์แล้วแต่เห็นยังมีลงประกาศรับสมัค...   \n",
       "16  เข้ารับการสัมภาษณ์แล้วแต่เห็นมีประกาศรับสมัครอ...   \n",
       "17  หากพนักงานต้องการสละสิทธิ์หรือยกเลิกการโอนย้าย...   \n",
       "18     หากหน่วยงานต้นสังกัดต้องการยืมตัวต้องทำอย่างไร   \n",
       "19  หน่วยงานต้นสังกัดสามารถยืมตัวได้ภายในระยะเวลาเ...   \n",
       "20             สอบถามเกณฑ์ในการแต่งตั้งดำรงตำแหน่งงาน   \n",
       "21     ธนาคารมีการเปิดให้ทุนการศึกษาแก่พนักงานหรือไม่   \n",
       "22  หลักเกณฑ์การเลื่อนตำแหน่งตามความสามารถและผลการ...   \n",
       "23  จำไม่ได้ว่าอบรมต่ออายุใบอนุญาตฯ ไปแล้วหรือยัง ...   \n",
       "24  ธนาคารจะมีเปิดรอบทดสอบใบอนุญาตนายหน้าประกันชีว...   \n",
       "25  อบรมต่ออายุใบอนุญาตฯ เรียบร้อยแล้ว แต่ยังไม่ได...   \n",
       "26             กระบวนการประเมินผลการปฏิบัติงานประจำปี   \n",
       "27          หลักเกณฑ์การประเมินผลการปฏิบัติงานประจำปี   \n",
       "28  Distrubution Ranking หรือสัดส่วน Performance R...   \n",
       "29        ระยะเวลาในการประเมินผลสำหรับพนักงานเข้าใหม่   \n",
       "30  แบบฟอร์มการประเมินผลหรือหัวข้อการประเมินผล สำห...   \n",
       "31  หลักเกณฑ์การประเมิน สำหรับพนักงานกลุ่มเจ้าหน้า...   \n",
       "32  หลักเกณฑ์การประเมิน สำหรับพนักงานกลุ่มรองผู้อำ...   \n",
       "33      หนังสือเวียนที่เกี่ยวข้อง เพื่อศึกษาเพิ่มเติม   \n",
       "34  ระยะเวลาในการประเมินผลสำหรับพนักงานที่ได้รับกา...   \n",
       "35  แบบฟอร์มการประเมินผลหรือหัวข้อการประเมินผล สำห...   \n",
       "36  หลักเกณฑ์การประเมิน สำหรับพนักงานที่ได้รับการแ...   \n",
       "\n",
       "                                          core_answer  \n",
       "0   ธนาคารมีช่องทางการประกาศรับสมัครพนักงานภายในธน...  \n",
       "1   ธนาคารมีช่องทางการประกาศรับสมัครพนักงานภายในธน...  \n",
       "2   HR จะคัดกรองคุณสมบัติ และส่งให้หน่วยงานพิจารณา...  \n",
       "3   HR จะคัดกรองคุณสมบัติ และส่งให้หน่วยงานพิจารณา...  \n",
       "4   HR จะคัดกรองคุณสมบัติ และส่งให้หน่วยงานพิจารณา...  \n",
       "5   กรณีผ่านการสัมภาษณ์ HR จะดำเนินการติดต่อแจ้งผล...  \n",
       "6   กรณีผ่านการสัมภาษณ์ HR จะดำเนินการติดต่อแจ้งผล...  \n",
       "7   หลักเกณฑ์การโอนย้ายของพนักงาน ขึ้นกับ 3 กรณี: ...  \n",
       "8   หลักเกณฑ์การโอนย้ายของพนักงาน ขึ้นกับ 3 กรณี: ...  \n",
       "9   โปรดตรวจสอบสถานะการโอนย้ายกับเจ้าหน้าที่ที่ดูแ...  \n",
       "10  โปรดตรวจสอบสถานะการโอนย้ายกับเจ้าหน้าที่ที่ดูแ...  \n",
       "11  ธนาคารให้หน่วยงานต้นสังกัดของพนักงานพิจารณาควา...  \n",
       "12  ธนาคารให้หน่วยงานต้นสังกัดของพนักงานพิจารณาควา...  \n",
       "13  ธนาคารให้หน่วยงานต้นสังกัดของพนักงานพิจารณาควา...  \n",
       "14  ธนาคารให้หน่วยงานต้นสังกัดของพนักงานพิจารณาควา...  \n",
       "15  ธนาคารจะประกาศรับสมัครภายในจนกว่าจะสรรหาพนักงา...  \n",
       "16  ธนาคารจะประกาศรับสมัครภายในจนกว่าจะสรรหาพนักงา...  \n",
       "17  หากยังไม่มีการประกาศคำสั่งโอนย้าย พนักงานสามาร...  \n",
       "18  หน่วยงานต้นสังกัดสามารถยืมตัวได้โดยส่งคำร้องไป...  \n",
       "19  หน่วยงานต้นสังกัดสามารถยืมตัวได้โดยส่งคำร้องไป...  \n",
       "20  พนักงานสามารถศึกษาเกณฑ์ได้จากใบประกาศรับสมัครง...  \n",
       "21  พนักงานสามารถติดตามข่าวสารด้านทุนการศึกษาได้ผ่...  \n",
       "22  คุณสมบัติเบื้องต้นในการพิจารณาเลื่อนตำแหน่งตาม...  \n",
       "23  พนักงานสามารถตรวจสอบประวัติการอบรมของพนักงานได...  \n",
       "24  ขึ้นอยู่กับจำนวนพนักงานที่ยังไม่มีใบอนุญาตนายห...  \n",
       "25  ธนาคารยกเลิกการจัดส่งใบอนุญาตฯ ให้กับพนักงานแล...  \n",
       "26  กระบวนการประเมินผลการปฏิบัติงานประจำปี ได้แก่ ...  \n",
       "27  สามารถศึกษาหลักเกณฑ์การประเมินผลการปฏิบัติงานป...  \n",
       "28  ปัจจุบันมี 7 Rank เรียงจากคะแนนผลการปฏิบัติงาน...  \n",
       "29    ระยะเวลาการประเมินผล 6 เดือนนับจากวันที่เข้างาน  \n",
       "30  1. สำหรับพนักงานกลุ่มเจ้าหน้าที่ - หัวหน้าส่วน...  \n",
       "31  1) เกณฑ์การผ่านประเมิน คะแนนประเมินผลตั้งแต่ 8...  \n",
       "32  1) เกณฑ์การผ่านประเมิน คะแนนประเมินผลตั้งแต่ 8...  \n",
       "33  น.(ว)(บสส.) 317/2560 ลงวันที่ 28 กุมภาพันธ์ 25...  \n",
       "34  ระยะเวลาการประเมินผล 6 เดือนนับจากวันที่มีผลใน...  \n",
       "35  Download เอกสารใบคำขอกู้ได้ที่ Intranet หน้าหล...  \n",
       "36  น.(ว)(บปผ.) 1370/2563 ลงวันที่ 14 กันยายน 2563...  "
      ]
     },
     "execution_count": 31,
     "metadata": {},
     "output_type": "execute_result"
    }
   ],
   "source": [
    "faiss_retriever.document_storage.metaData"
   ]
  },
  {
   "cell_type": "code",
   "execution_count": 32,
   "metadata": {},
   "outputs": [
    {
     "data": {
      "text/plain": [
       "[ResponseCandidate(index=2, main_node='recruitmentRotationAndAppointment', responsible_team='ฝ่ายทรัพยากรบุคคลสัมพันธ์ 1, \\nฝ่ายทรัพยากรบุคคลสัมพันธ์ 4', question_tag='interal_recruitment, status_of_rotation, status_of_appointment, criteria_and_process_of_rotation_between_bu', question_type='how', core_question='แจ้งความประสงค์โอนย้ายผ่านช่องทางของธนาคารแล้ว ขั้นตอนต่อไปต้องทำอย่างไร', core_answer='HR จะคัดกรองคุณสมบัติ และส่งให้หน่วยงานพิจารณา หากท่านได้รับการคัดเลือก จะมีเจ้าหน้าที่ติดต่อไปยังท่าน ทั้งนี้ ท่านสามารถสอบถามเจ้าหน้าที่ที่ดูแลการรับสมัครตำแหน่งนั้นๆ โดยดูข้อมูลการติดต่อสอบถามได้ที่ประกาศรับสมัคร (Link)'),\n",
       " ResponseCandidate(index=5, main_node='recruitmentRotationAndAppointment', responsible_team='ฝ่ายทรัพยากรบุคคลสัมพันธ์ 1, \\nฝ่ายทรัพยากรบุคคลสัมพันธ์ 7', question_tag='interal_recruitment, status_of_rotation, status_of_appointment, criteria_and_process_of_rotation_between_bu', question_type='why', core_question='เข้าสู่กระบวนการสัมภาษณ์แล้ว แต่ยังไม่ได้รับการติดต่อจาก HR', core_answer='กรณีผ่านการสัมภาษณ์ HR จะดำเนินการติดต่อแจ้งผลสัมภาษณ์ไปยังผู้สมัคร หลังจากผ่านความเห็นชอบจากคณะกรรมการพนักงานของหน่วยงานปลายทางที่รับสมัคร ท่านสามารถสอบถามเจ้าหน้าที่ที่ดูแลการรับสมัครตำแหน่งนั้นๆ โดยดูข้อมูลการติดต่อสอบถามได้ที่ประกาศรับสมัคร (Link) หรือเจ้าหน้าที่ที่ติดต่อนัดสัมภาษณ์ได้โดยตรง'),\n",
       " ResponseCandidate(index=6, main_node='recruitmentRotationAndAppointment', responsible_team='ฝ่ายทรัพยากรบุคคลสัมพันธ์ 1, \\nฝ่ายทรัพยากรบุคคลสัมพันธ์ 8', question_tag='interal_recruitment, status_of_rotation, status_of_appointment, criteria_and_process_of_rotation_between_bu', question_type='what', core_question='สอบถามผลสัมภาษณ์', core_answer='กรณีผ่านการสัมภาษณ์ HR จะดำเนินการติดต่อแจ้งผลสัมภาษณ์ไปยังผู้สมัคร หลังจากผ่านความเห็นชอบจากคณะกรรมการพนักงานของหน่วยงานปลายทางที่รับสมัคร ท่านสามารถสอบถามเจ้าหน้าที่ที่ดูแลการรับสมัครตำแหน่งนั้นๆ โดยดูข้อมูลการติดต่อสอบถามได้ที่ประกาศรับสมัคร (Link) หรือเจ้าหน้าที่ที่ติดต่อนัดสัมภาษณ์ได้โดยตรง')]"
      ]
     },
     "execution_count": 32,
     "metadata": {},
     "output_type": "execute_result"
    }
   ],
   "source": [
    "faiss_retriever.retrieve(\"ต้นสังกัดมีสิทธิ์ไม่ปล่อยตัวพนักงานหรือไม่\")"
   ]
  },
  {
   "cell_type": "code",
   "execution_count": 24,
   "metadata": {},
   "outputs": [
    {
     "data": {
      "text/plain": [
       "array([5, 4, 6, 0, 3])"
      ]
     },
     "execution_count": 24,
     "metadata": {},
     "output_type": "execute_result"
    }
   ],
   "source": [
    "faiss_engine.retrieve(\"สัมภาษณ์\", k=5)"
   ]
  },
  {
   "cell_type": "markdown",
   "metadata": {},
   "source": [
    "# Self-RAG"
   ]
  },
  {
   "attachments": {
    "image.png": {
     "image/png": "[encoded data removed]"
    }
   },
   "cell_type": "markdown",
   "metadata": {},
   "source": [
    "![image.png](attachment:image.png)"
   ]
  },
  {
   "cell_type": "code",
   "execution_count": 20,
   "metadata": {},
   "outputs": [],
   "source": [
    "from module.model.gemini import Gemini\n",
    "from typing_extensions import TypedDict"
   ]
  },
  {
   "cell_type": "code",
   "execution_count": 19,
   "metadata": {},
   "outputs": [
    {
     "ename": "TypeError",
     "evalue": "list indices must be integers or slices, not str",
     "output_type": "error",
     "traceback": [
      "\u001b[0;31m---------------------------------------------------------------------------\u001b[0m",
      "\u001b[0;31mTypeError\u001b[0m                                 Traceback (most recent call last)",
      "Cell \u001b[0;32mIn[19], line 1\u001b[0m\n\u001b[0;32m----> 1\u001b[0m \u001b[43mhashed_passwords\u001b[49m\u001b[38;5;241;43m.\u001b[39;49m\u001b[43mhash_passwords\u001b[49m\u001b[43m(\u001b[49m\u001b[43mpasswords\u001b[49m\u001b[43m)\u001b[49m\n",
      "File \u001b[0;32m~/Desktop/poc-hr-helpdesk-chatbot/.venv/lib/python3.13/site-packages/streamlit_authenticator/utilities/hasher.py:68\u001b[0m, in \u001b[0;36mHasher.hash_passwords\u001b[0;34m(cls, credentials)\u001b[0m\n\u001b[1;32m     54\u001b[0m \u001b[38;5;129m@classmethod\u001b[39m\n\u001b[1;32m     55\u001b[0m \u001b[38;5;28;01mdef\u001b[39;00m \u001b[38;5;21mhash_passwords\u001b[39m(\u001b[38;5;28mcls\u001b[39m, credentials: \u001b[38;5;28mdict\u001b[39m) \u001b[38;5;241m-\u001b[39m\u001b[38;5;241m>\u001b[39m \u001b[38;5;28mdict\u001b[39m:\n\u001b[1;32m     56\u001b[0m \u001b[38;5;250m    \u001b[39m\u001b[38;5;124;03m\"\"\"\u001b[39;00m\n\u001b[1;32m     57\u001b[0m \u001b[38;5;124;03m    Hashes all plain text passwords in the credentials dict.\u001b[39;00m\n\u001b[1;32m     58\u001b[0m \n\u001b[0;32m   (...)\u001b[0m\n\u001b[1;32m     66\u001b[0m \u001b[38;5;124;03m        The credentials dict with hashed passwords.\u001b[39;00m\n\u001b[1;32m     67\u001b[0m \u001b[38;5;124;03m    \"\"\"\u001b[39;00m\n\u001b[0;32m---> 68\u001b[0m     usernames \u001b[38;5;241m=\u001b[39m \u001b[43mcredentials\u001b[49m\u001b[43m[\u001b[49m\u001b[38;5;124;43m'\u001b[39;49m\u001b[38;5;124;43musernames\u001b[39;49m\u001b[38;5;124;43m'\u001b[39;49m\u001b[43m]\u001b[49m\n\u001b[1;32m     70\u001b[0m     \u001b[38;5;28;01mfor\u001b[39;00m _, user \u001b[38;5;129;01min\u001b[39;00m usernames\u001b[38;5;241m.\u001b[39mitems():\n\u001b[1;32m     71\u001b[0m         password \u001b[38;5;241m=\u001b[39m user[\u001b[38;5;124m'\u001b[39m\u001b[38;5;124mpassword\u001b[39m\u001b[38;5;124m'\u001b[39m]\n",
      "\u001b[0;31mTypeError\u001b[0m: list indices must be integers or slices, not str"
     ]
    }
   ],
   "source": [
    "hashed_passwords.hash_passwords(passwords)"
   ]
  },
  {
   "cell_type": "code",
   "execution_count": 2,
   "metadata": {},
   "outputs": [],
   "source": [
    "from IPython.display import Markdown, display\n",
    "\n",
    "def print_md(md_text):\n",
    "    display(Markdown(md_text))\n",
    "\n",
    "from module.agent import helpdeskAgent\n",
    "\n",
    "agent = helpdeskAgent(faiss_retriever)"
   ]
  },
  {
   "cell_type": "code",
   "execution_count": 3,
   "metadata": {},
   "outputs": [
    {
     "name": "stdout",
     "output_type": "stream",
     "text": [
      "AI is thinking...\n",
      "AI is retrieving relevant information...\n"
     ]
    },
    {
     "data": {
      "text/plain": [
       "'หลังจากสัมภาษณ์งานผ่านแล้ว ทางฝ่ายบุคคลจะคัดกรองคุณสมบัติและส่งให้หน่วยงานพิจารณาค่ะ หากท่านได้รับการคัดเลือก จะมีเจ้าหน้าที่ติดต่อไปยังท่าน  ท่านสามารถสอบถามเจ้าหน้าที่ที่ดูแลการรับสมัครตำแหน่งนั้นๆ โดยดูข้อมูลการติดต่อสอบถามได้ที่ประกาศรับสมัคร (Link) นะคะ \\n'"
      ]
     },
     "execution_count": 3,
     "metadata": {},
     "output_type": "execute_result"
    }
   ],
   "source": [
    "agent.response(\"สัมภาษณ์งานผ่านต้องทำยังไงต่อ\")"
   ]
  },
  {
   "cell_type": "code",
   "execution_count": 10,
   "metadata": {},
   "outputs": [
    {
     "name": "stdout",
     "output_type": "stream",
     "text": [
      "AI is thinking...\n"
     ]
    },
    {
     "data": {
      "text/plain": [
       "'ขออภัยค่ะ ฉันไม่เข้าใจคำถาม  คุณต้องการสอบถามเกี่ยวกับอะไร? '"
      ]
     },
     "execution_count": 10,
     "metadata": {},
     "output_type": "execute_result"
    }
   ],
   "source": [
    "agent.response(\"โลกมีดวงจันทร์กี่ดวง\")"
   ]
  },
  {
   "cell_type": "code",
   "execution_count": 12,
   "metadata": {},
   "outputs": [
    {
     "name": "stdout",
     "output_type": "stream",
     "text": [
      "\n",
      "        You are a female helpful HR helpdesk assistant for Krungthai Bank. \n",
      "        Your role is to form an answer that you'll be given and reply back in Thai.\n",
      "        Without prying and asking for private information.\n",
      "        \n",
      "            Prvoding with the conversation history:\n",
      "            \n",
      "        The following is the memory of the HelpdeskAgent containing previous interactions and context. \n",
      "        Use this information to generate accurate and contextually appropriate responses.\n",
      "        \n",
      "Employee: สัมภาษณ์งานผ่านต้องทำยังไงต่อ\n",
      "AI: หลังจากสัมภาษณ์งานผ่านแล้ว ทางฝ่ายบุคคลจะคัดกรองคุณสมบัติและส่งให้หน่วยงานพิจารณาค่ะ หากท่านได้รับการคัดเลือก จะมีเจ้าหน้าที่ติดต่อไปยังท่าน  ท่านสามารถสอบถามเจ้าหน้าที่ที่ดูแลการรับสมัครตำแหน่งนั้นๆ โดยดูข้อมูลการติดต่อสอบถามได้ที่ประกาศรับสมัคร (Link) นะคะ \n",
      "\n",
      "Employee: ชื่อไรจ๊ะน้องสาว\n",
      "AI: ขออภัยค่ะ ฉันเป็นระบบ AI ที่ได้รับการออกแบบมาเพื่อช่วยเหลือพนักงานของธนาคารกรุงไทย  ฉันไม่มีชื่อและไม่สามารถให้ข้อมูลส่วนตัวได้  คุณมีข้อสงสัยเกี่ยวกับการสมัครงานหรือไม่? \n",
      "\n",
      "Employee: อยากตายยยยย\n",
      "AI: ขออภัยค่ะ ฉันไม่เข้าใจความหมายของคำถาม  คุณต้องการสอบถามเกี่ยวกับอะไร?  \n",
      "Employee: โลกมีดวงจันทร์กี่ดวง\n",
      "AI: ขออภัยค่ะ ฉันไม่เข้าใจคำถาม  คุณต้องการสอบถามเกี่ยวกับอะไร? \n",
      "            \n",
      "        \n"
     ]
    }
   ],
   "source": [
    "print(agent.get_system_instruction())"
   ]
  },
  {
   "cell_type": "code",
   "execution_count": 4,
   "metadata": {},
   "outputs": [],
   "source": [
    "import pandas as pd\n",
    "\n",
    "df = pd.read_excel(\"/Users/sirabhobs/Downloads/HR Helpdesk_Q&A Chatbot.xlsx\", sheet_name=\"FAQ\")\n",
    "df.reset_index(inplace=True)"
   ]
  },
  {
   "cell_type": "code",
   "execution_count": 2,
   "metadata": {},
   "outputs": [],
   "source": [
    "from module.model.retriever import retriever\n",
    "from module.model.retriever import faiss_engine"
   ]
  },
  {
   "cell_type": "code",
   "execution_count": 5,
   "metadata": {},
   "outputs": [],
   "source": [
    "r = retriever(df)"
   ]
  },
  {
   "cell_type": "code",
   "execution_count": 7,
   "metadata": {},
   "outputs": [],
   "source": [
    "from module.agent import helpdeskAgent"
   ]
  },
  {
   "cell_type": "code",
   "execution_count": 8,
   "metadata": {},
   "outputs": [],
   "source": [
    "agent = helpdeskAgent(r)"
   ]
  },
  {
   "cell_type": "code",
   "execution_count": 9,
   "metadata": {},
   "outputs": [
    {
     "data": {
      "text/plain": [
       "'สวัสดีค่ะ 😊  \\n\\nเข้าใจค่ะ  ถ้าคุณต้องการลาออกจากงาน คุณสามารถแจ้งความประสงค์ต่อหัวหน้างานของคุณได้โดยตรง  \\n\\nหัวหน้างานของคุณจะช่วยคุณในการดำเนินการตามขั้นตอนการลาออก  \\n\\nอย่าลืมตรวจสอบเงื่อนไขการลาออกในสัญญาจ้างงานของคุณด้วยนะคะ  \\n\\nหากมีข้อสงสัยเพิ่มเติม  คุณสามารถติดต่อฝ่ายทรัพยากรบุคคลได้ที่เบอร์โทรศัพท์  [เบอร์โทรศัพท์ฝ่ายทรัพยากรบุคคล]  \\n\\nขอให้คุณโชคดีกับการตัดสินใจของคุณค่ะ  \\n'"
      ]
     },
     "execution_count": 9,
     "metadata": {},
     "output_type": "execute_result"
    }
   ],
   "source": [
    "agent.response(\"อยากลาออก\")"
   ]
  },
  {
   "cell_type": "code",
   "execution_count": null,
   "metadata": {},
   "outputs": [],
   "source": []
  },
  {
   "cell_type": "code",
   "execution_count": 7,
   "metadata": {},
   "outputs": [],
   "source": [
    "@dataclass\n",
    "class DocumentStore:\n",
    "    metaData: Dict[str, Any]\n",
    "    retrieverEngine: Any"
   ]
  },
  {
   "cell_type": "code",
   "execution_count": 53,
   "metadata": {},
   "outputs": [],
   "source": [
    "\n",
    "@dataclass\n",
    "class ResponseCandidate:\n",
    "    index: int\n",
    "    main_node: str\n",
    "    responsible_team: str\n",
    "    question_tag: str\n",
    "    question_type: str\n",
    "    core_question: str\n",
    "    core_answer: str\n",
    "\n",
    "    def to_dict(self):\n",
    "        \"\"\"Export the dataclass to a dictionary.\"\"\"\n",
    "        return asdict(self)\n",
    "\n",
    "    def to_list(self):\n",
    "        \"\"\"Export the dataclass to a list of values.\"\"\"\n",
    "        return list(asdict(self).values())"
   ]
  },
  {
   "cell_type": "code",
   "execution_count": 40,
   "metadata": {},
   "outputs": [],
   "source": [
    "class faiss_engine():\n",
    "    \n",
    "    def __init__(self, document):\n",
    "        self.embedder = Gemini()\n",
    "        self.engine = self.build(document)\n",
    "        \n",
    "    def __embed_document(self, document):\n",
    "        return np.array(self.embedder.embed_documents(document)).astype('float32')\n",
    "        \n",
    "    def build(self, document):\n",
    "        \n",
    "        embedding_matrix = self.__embed_document(document)\n",
    "        retriver_engine = faiss.IndexFlatL2(embedding_matrix.shape[1])\n",
    "        retriver_engine.add(embedding_matrix)\n",
    "        \n",
    "        return retriver_engine\n",
    "    \n",
    "    def retrieve(self, question, k):\n",
    "        \n",
    "        emb_question = self.embedder.embed(question)\n",
    "        emb_question = np.array([emb_question], dtype='float32')  #query\n",
    "        result = self.engine.search(emb_question, k)\n",
    "        \n",
    "        return result[1][0]"
   ]
  },
  {
   "cell_type": "code",
   "execution_count": 93,
   "metadata": {},
   "outputs": [],
   "source": [
    "class retriever():\n",
    "    def __init__(self, document:pd.DataFrame, method = faiss_engine):\n",
    "        \"\"\"Retriever instance\n",
    "\n",
    "        Args:\n",
    "            document (pd.DataFrame): Whole document\n",
    "            method (str): Defaults to 'faiss'\n",
    "        \"\"\"\n",
    "        self.engine = method(document)\n",
    "        self.document_storage = DocumentStore(metaData=document, retrieverEngine=self.engine.build(document))\n",
    "        \n",
    "    def get_content(self, query_index: int) -> ResponseCandidate:\n",
    "        \n",
    "        row = df[df['index'] == query_index]\n",
    "        \n",
    "        if row.empty:\n",
    "            raise ValueError(f\"No row found with index {query_index}\")\n",
    "        \n",
    "        return ResponseCandidate(**row.iloc[0].to_dict())\n",
    "        \n",
    "    def retrieve(self, question, k=3):\n",
    "        \n",
    "        result = self.engine.retrieve(question, k)\n",
    "        \n",
    "        return [self.get_content(res) for res in result]"
   ]
  },
  {
   "cell_type": "code",
   "execution_count": 54,
   "metadata": {},
   "outputs": [],
   "source": [
    "r = retriever(df)"
   ]
  },
  {
   "cell_type": "code",
   "execution_count": 55,
   "metadata": {},
   "outputs": [],
   "source": [
    "res = r.retrieve(\"สัมภาษณ์ดูผลที่ไหน\")"
   ]
  },
  {
   "cell_type": "code",
   "execution_count": 57,
   "metadata": {},
   "outputs": [
    {
     "data": {
      "text/plain": [
       "{'index': 4,\n",
       " 'main_node': 'recruitmentRotationAndAppointment',\n",
       " 'responsible_team': 'ฝ่ายทรัพยากรบุคคลสัมพันธ์ 1, \\nฝ่ายทรัพยากรบุคคลสัมพันธ์ 6',\n",
       " 'question_tag': 'interal_recruitment, status_of_rotation, status_of_appointment, criteria_and_process_of_rotation_between_bu',\n",
       " 'question_type': 'what',\n",
       " 'core_question': 'สอบถามกระบวนการในการโอนย้ายหน่วยงานภายในธนาคาร',\n",
       " 'core_answer': 'HR จะคัดกรองคุณสมบัติ และส่งให้หน่วยงานพิจารณา หากท่านได้รับการคัดเลือก จะมีเจ้าหน้าที่ติดต่อไปยังท่าน ทั้งนี้ ท่านสามารถสอบถามเจ้าหน้าที่ที่ดูแลการรับสมัครตำแหน่งนั้นๆ โดยดูข้อมูลการติดต่อสอบถามได้ที่ประกาศรับสมัคร (Link)'}"
      ]
     },
     "execution_count": 57,
     "metadata": {},
     "output_type": "execute_result"
    }
   ],
   "source": [
    "res[0].to_dict()"
   ]
  },
  {
   "cell_type": "code",
   "execution_count": 94,
   "metadata": {},
   "outputs": [],
   "source": [
    "class helpdeskAgent():\n",
    "    def __init__(self, retriever):\n",
    "        self.retriver_engine = retriever\n",
    "        self.agent = Gemini()\n",
    "        \n",
    "    def retrieve(self, question):\n",
    "        return self.retriver_engine.retrieve(question)\n",
    "            \n",
    "    def response(self, question):\n",
    "        \n",
    "        candidates = self.retrieve(question)\n",
    "        prompt = f\"\"\"\n",
    "    \n",
    "        Given\n",
    "        •\tDialogue Answer 1: {candidates[0].to_dict()[\"core_answer\"]}\n",
    "        •\tDialogue Answer 2: {candidates[1].to_dict()[\"core_answer\"]}\n",
    "        •\tDialogue Answer 3: {candidates[2].to_dict()[\"core_answer\"]}\n",
    "        \n",
    "        {question}?\n",
    "        \n",
    "        \"\"\"\n",
    "        return self.agent.generate(prompt)"
   ]
  },
  {
   "cell_type": "code",
   "execution_count": 63,
   "metadata": {},
   "outputs": [],
   "source": [
    "r = retriever(df)"
   ]
  },
  {
   "cell_type": "code",
   "execution_count": 95,
   "metadata": {},
   "outputs": [],
   "source": [
    "agent = helpdeskAgent(r)"
   ]
  },
  {
   "cell_type": "code",
   "execution_count": 97,
   "metadata": {},
   "outputs": [
    {
     "data": {
      "text/plain": [
       "'สวัสดีค่ะ 😊\\n\\nหลังจากสัมภาษณ์เสร็จแล้ว คุณสามารถติดตามผลได้จากช่องทางต่อไปนี้ค่ะ:\\n\\n* **ติดต่อเจ้าหน้าที่ที่ดูแลการรับสมัครตำแหน่งนั้นๆ:** คุณสามารถดูข้อมูลการติดต่อสอบถามได้ที่ประกาศรับสมัคร (Link) หรือเจ้าหน้าที่ที่ติดต่อนัดสัมภาษณ์ได้โดยตรง\\n* **รอการติดต่อจาก HR:** หากคุณผ่านการสัมภาษณ์ HR จะดำเนินการติดต่อแจ้งผลสัมภาษณ์ไปยังผู้สมัคร หลังจากผ่านความเห็นชอบจากคณะกรรมการพนักงานของหน่วยงานปลายทางที่รับสมัคร\\n\\nหากมีข้อสงสัยเพิ่มเติม สามารถสอบถามได้ตลอดเวลานะคะ 😊\\n'"
      ]
     },
     "execution_count": 97,
     "metadata": {},
     "output_type": "execute_result"
    }
   ],
   "source": [
    "agent.response(\"สัมภาษณ์ดูผลที่ไหน\")"
   ]
  },
  {
   "cell_type": "code",
   "execution_count": null,
   "metadata": {},
   "outputs": [],
   "source": []
  }
 ],
 "metadata": {
  "kernelspec": {
   "display_name": ".venv",
   "language": "python",
   "name": "python3"
  },
  "language_info": {
   "codemirror_mode": {
    "name": "ipython",
    "version": 3
   },
   "file_extension": ".py",
   "mimetype": "text/x-python",
   "name": "python",
   "nbconvert_exporter": "python",
   "pygments_lexer": "ipython3",
   "version": "3.13.0"
  }
 },
 "nbformat": 4,
 "nbformat_minor": 2
}
