{
 "cells": [
  {
   "cell_type": "code",
   "execution_count": 3,
   "metadata": {},
   "outputs": [],
   "source": [
    "import streamlit_authenticator as stauth\n",
    "import yaml"
   ]
  },
  {
   "cell_type": "code",
   "execution_count": 4,
   "metadata": {},
   "outputs": [],
   "source": [
    "# Load configuration file\n",
    "with open('./config.yaml') as file:\n",
    "    config = yaml.load(file, Loader=yaml.loader.SafeLoader)"
   ]
  },
  {
   "cell_type": "code",
   "execution_count": null,
   "metadata": {},
   "outputs": [],
   "source": [
    "PROJECT_ID=\"ktb-contact-center-nonprd\"\n",
    "LOCATION_ID=\"asia-southeast1\"\n",
    "API_ENDPOINT=\"us-central1-aiplatform.googleapis.com\"\n",
    "MODEL_ID=\"gemini-2.0-flash-exp\" #text-embedding-004\n",
    "GENERATE_CONTENT_API=\"streamGenerateContent\" #embedContent\n",
    "\n",
    "ENDPOINT = f\"https://${API_ENDPOINT}/v1/projects/${PROJECT_ID}/locations/${LOCATION_ID}/publishers/google/models/${MODEL_ID}:${GENERATE_CONTENT_API}\""
   ]
  },
  {
   "cell_type": "code",
   "execution_count": null,
   "metadata": {},
   "outputs": [],
   "source": [
    "region = \"\"\n",
    "project_name = \"poc-hr-chatbot\"\n",
    "model = \"text-embedding-004\"\n",
    "\n",
    "url = \"https://us-central1-aiplatform.googleapis.com/v1/projects/ktb-complaint-center-poc/locations/us-central1/publishers/google/models/gemini-2.0-flash-exp:streamGenerateContent\""
   ]
  },
  {
   "cell_type": "code",
   "execution_count": 3,
   "metadata": {},
   "outputs": [],
   "source": [
    "import yaml\n"
   ]
  },
  {
   "cell_type": "code",
   "execution_count": 4,
   "metadata": {},
   "outputs": [],
   "source": [
    "with open('./config.yaml') as file:\n",
    "    config = yaml.load(file, Loader=yaml.loader.SafeLoader)\n"
   ]
  },
  {
   "cell_type": "code",
   "execution_count": 6,
   "metadata": {},
   "outputs": [
    {
     "data": {
      "text/plain": [
       "{'piyada': {'name': 'Piyada',\n",
       "  'email': 'abc@gmail.com',\n",
       "  'special_request': {'gender': 'male',\n",
       "   'personality': 'detail-oriented, articulate, and well explain'},\n",
       "  'password': '$2b$12$PFqth7tKlqDY7R3ZhEyr5u0f/rT.8an/AVjhgsSLcRJZM9L0cvOze'},\n",
       " 'ktb_admin': {'name': 'Admin',\n",
       "  'email': 'def@gmail.com',\n",
       "  'special_request': {'gender': 'female',\n",
       "   'personality': 'attentive, mindful of using easy-to-understand vocaburary'},\n",
       "  'password': '$2b$12$PFqth7tKlqDY7R3ZhEyr5u0f/rT.8an/AVjhgsSLcRJZM9L0cvOze'}}"
      ]
     },
     "execution_count": 6,
     "metadata": {},
     "output_type": "execute_result"
    }
   ],
   "source": [
    "config['credentials']['usernames']['']"
   ]
  },
  {
   "cell_type": "code",
   "execution_count": null,
   "metadata": {},
   "outputs": [],
   "source": [
    "https://generativelanguage.googleapis.com/v1beta/models/:embedContent"
   ]
  },
  {
   "cell_type": "code",
   "execution_count": null,
   "metadata": {},
   "outputs": [],
   "source": [
    "hashed_passwords = stauth.Hasher(['abc', 'def']).generate()"
   ]
  }
 ],
 "metadata": {
  "kernelspec": {
   "display_name": ".venv",
   "language": "python",
   "name": "python3"
  },
  "language_info": {
   "codemirror_mode": {
    "name": "ipython",
    "version": 3
   },
   "file_extension": ".py",
   "mimetype": "text/x-python",
   "name": "python",
   "nbconvert_exporter": "python",
   "pygments_lexer": "ipython3",
   "version": "3.13.0"
  }
 },
 "nbformat": 4,
 "nbformat_minor": 2
}
